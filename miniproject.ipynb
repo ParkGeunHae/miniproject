{
  "nbformat": 4,
  "nbformat_minor": 0,
  "metadata": {
    "colab": {
      "provenance": [],
      "authorship_tag": "ABX9TyPsyvSn5Fni+9s716EEfLHd",
      "include_colab_link": true
    },
    "kernelspec": {
      "name": "python3",
      "display_name": "Python 3"
    },
    "language_info": {
      "name": "python"
    }
  },
  "cells": [
    {
      "cell_type": "markdown",
      "metadata": {
        "id": "view-in-github",
        "colab_type": "text"
      },
      "source": [
        "<a href=\"https://colab.research.google.com/github/ParkGeunHae/miniproject/blob/main/miniproject.ipynb\" target=\"_parent\"><img src=\"https://colab.research.google.com/assets/colab-badge.svg\" alt=\"Open In Colab\"/></a>"
      ]
    },
    {
      "cell_type": "markdown",
      "source": [
        "# 미니 프로젝트\n",
        "- 영어단어장 프로그램 만들기"
      ],
      "metadata": {
        "id": "xqZhGHXFjQa5"
      }
    },
    {
      "cell_type": "code",
      "execution_count": 21,
      "metadata": {
        "colab": {
          "base_uri": "https://localhost:8080/"
        },
        "id": "iLpaytnCwvs3",
        "outputId": "1ec78ce1-0f21-4fac-97f0-f56b236c3ada"
      },
      "outputs": [
        {
          "output_type": "stream",
          "name": "stdout",
          "text": [
            "---선택메뉴--\n",
            "    1. 단어 등록\n",
            "    2. 단어 검색\n",
            "    3. 단어 삭제\n",
            "    4. 모든 단어 보기\n",
            "    0. 종료하기\n",
            "    --------------------선택:1\n",
            "새 단어 : apple\n",
            "apple의 뜻 : 사과\n",
            "---선택메뉴--\n",
            "    1. 단어 등록\n",
            "    2. 단어 검색\n",
            "    3. 단어 삭제\n",
            "    4. 모든 단어 보기\n",
            "    0. 종료하기\n",
            "    --------------------선택:1\n",
            "새 단어 : grape\n",
            "grape의 뜻 : 포도\n",
            "---선택메뉴--\n",
            "    1. 단어 등록\n",
            "    2. 단어 검색\n",
            "    3. 단어 삭제\n",
            "    4. 모든 단어 보기\n",
            "    0. 종료하기\n",
            "    --------------------선택:2\n",
            "검색할 단어 : apple\n",
            "사과\n",
            "---선택메뉴--\n",
            "    1. 단어 등록\n",
            "    2. 단어 검색\n",
            "    3. 단어 삭제\n",
            "    4. 모든 단어 보기\n",
            "    0. 종료하기\n",
            "    --------------------선택:3\n",
            "삭제할 단어 : orange\n",
            "\"orange\" 단어는 미등록 단어\n",
            "---선택메뉴--\n",
            "    1. 단어 등록\n",
            "    2. 단어 검색\n",
            "    3. 단어 삭제\n",
            "    4. 모든 단어 보기\n",
            "    0. 종료하기\n",
            "    --------------------선택:grape\n",
            "---선택메뉴--\n",
            "    1. 단어 등록\n",
            "    2. 단어 검색\n",
            "    3. 단어 삭제\n",
            "    4. 모든 단어 보기\n",
            "    0. 종료하기\n",
            "    --------------------선택:3\n",
            "삭제할 단어 : grape\n",
            "\"grape\" 단어 삭제됨!\n",
            "---선택메뉴--\n",
            "    1. 단어 등록\n",
            "    2. 단어 검색\n",
            "    3. 단어 삭제\n",
            "    4. 모든 단어 보기\n",
            "    0. 종료하기\n",
            "    --------------------선택:4\n",
            "{'apple': '사과'}\n",
            "---선택메뉴--\n",
            "    1. 단어 등록\n",
            "    2. 단어 검색\n",
            "    3. 단어 삭제\n",
            "    4. 모든 단어 보기\n",
            "    0. 종료하기\n",
            "    --------------------선택:0\n",
            "프로그램을 종료합니다.\n"
          ]
        }
      ],
      "source": [
        "#1. 단어등록\n",
        "def w_add(dictionary):\n",
        "    key=input('새 단어 : ')\n",
        "    print(f'{key}',end='')\n",
        "    value=input('의 뜻 : ')\n",
        "    dictionary[key]=value\n",
        "\n",
        "#2. 단어검색\n",
        "def w_search(dictionary):\n",
        "\n",
        "    key=input('검색할 단어 : ')\n",
        "    print(dictionary[key])\n",
        "\n",
        "\n",
        "#3. 단어삭제\n",
        "def w_delete(dictionary):\n",
        "    key = input('삭제할 단어 : ')\n",
        "    if key in dictionary:  # 딕셔너리에 입력된 키 값이 존재하는지 확인\n",
        "        del dictionary[key]  # 키 값이 존재하면 해당 단어를 삭제\n",
        "        print(f'\"{key}\" 단어 삭제됨!')\n",
        "    else:\n",
        "        print(f'\"{key}\" 단어는 미등록 단어')\n",
        "\n",
        "#4. 모든단어보기\n",
        "def w_show(dictionary):\n",
        "    print(dictionary)\n",
        "\n",
        "dictionary=dict()    # 빈 딕셔너리 생성\n",
        "\n",
        "#0. 종료하기\n",
        "def quit():\n",
        "    print('프로그램을 종료합니다.')\n",
        "\n",
        "while True:\n",
        "\n",
        "    menu='''---선택메뉴--\n",
        "    1. 단어 등록\n",
        "    2. 단어 검색\n",
        "    3. 단어 삭제\n",
        "    4. 모든 단어 보기\n",
        "    0. 종료하기\n",
        "    --------------------'''\n",
        "    print(menu,end='')\n",
        "    select=input('선택:')\n",
        "\n",
        "    if select=='1':\n",
        "        w_add(dictionary)\n",
        "\n",
        "    elif select=='2':\n",
        "       w_search(dictionary)\n",
        "\n",
        "    elif select=='3':\n",
        "       w_delete(dictionary)\n",
        "\n",
        "    elif select=='4':\n",
        "       w_show(dictionary)\n",
        "\n",
        "    elif  select=='0':\n",
        "        quit()\n",
        "        break"
      ]
    }
  ]
}